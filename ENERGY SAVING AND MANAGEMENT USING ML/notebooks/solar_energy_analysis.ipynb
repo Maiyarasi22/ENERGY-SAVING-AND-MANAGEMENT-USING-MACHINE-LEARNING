{
  "nbformat": 4,
  "nbformat_minor": 0,
  "metadata": {
    "colab": {
      "provenance": []
    },
    "kernelspec": {
      "name": "python3",
      "display_name": "Python 3"
    },
    "language_info": {
      "name": "python"
    }
  },
  "cells": [
    {
      "cell_type": "code",
      "source": [
        "import requests\n",
        "import pandas as pd\n",
        "\n",
        "# Coimbatore coordinates\n",
        "lat = 11.0168\n",
        "lon = 76.9558\n",
        "\n",
        "# Met.no API endpoint\n",
        "url = f\"https://api.met.no/weatherapi/locationforecast/2.0/compact?lat={lat}&lon={lon}\"\n",
        "\n",
        "# Headers with User-Agent\n",
        "headers = {\n",
        "    \"User-Agent\": \"YourAppName/1.0 (your@email.com)\"\n",
        "}\n",
        "\n",
        "response = requests.get(url, headers=headers)\n",
        "\n",
        "if response.status_code == 200:\n",
        "    data = response.json()\n",
        "    # Extract relevant data from 'data' and create DataFrame\n",
        "    # Save or process the DataFrame as needed\n",
        "else:\n",
        "    print(f\"Error: {response.status_code}\")"
      ],
      "metadata": {
        "id": "DprFvNrpRa9p"
      },
      "execution_count": null,
      "outputs": []
    },
    {
      "cell_type": "code",
      "source": [
        "pip install requests pandas\n"
      ],
      "metadata": {
        "colab": {
          "base_uri": "https://localhost:8080/"
        },
        "id": "6fDs1-1VRk_H",
        "outputId": "903845b0-dd77-4082-fb3c-2861fd6ff151"
      },
      "execution_count": null,
      "outputs": [
        {
          "output_type": "stream",
          "name": "stdout",
          "text": [
            "Requirement already satisfied: requests in /usr/local/lib/python3.11/dist-packages (2.32.3)\n",
            "Requirement already satisfied: pandas in /usr/local/lib/python3.11/dist-packages (2.2.2)\n",
            "Requirement already satisfied: charset-normalizer<4,>=2 in /usr/local/lib/python3.11/dist-packages (from requests) (3.4.1)\n",
            "Requirement already satisfied: idna<4,>=2.5 in /usr/local/lib/python3.11/dist-packages (from requests) (3.10)\n",
            "Requirement already satisfied: urllib3<3,>=1.21.1 in /usr/local/lib/python3.11/dist-packages (from requests) (2.3.0)\n",
            "Requirement already satisfied: certifi>=2017.4.17 in /usr/local/lib/python3.11/dist-packages (from requests) (2025.1.31)\n",
            "Requirement already satisfied: numpy>=1.23.2 in /usr/local/lib/python3.11/dist-packages (from pandas) (2.0.2)\n",
            "Requirement already satisfied: python-dateutil>=2.8.2 in /usr/local/lib/python3.11/dist-packages (from pandas) (2.8.2)\n",
            "Requirement already satisfied: pytz>=2020.1 in /usr/local/lib/python3.11/dist-packages (from pandas) (2025.2)\n",
            "Requirement already satisfied: tzdata>=2022.7 in /usr/local/lib/python3.11/dist-packages (from pandas) (2025.2)\n",
            "Requirement already satisfied: six>=1.5 in /usr/local/lib/python3.11/dist-packages (from python-dateutil>=2.8.2->pandas) (1.17.0)\n"
          ]
        }
      ]
    },
    {
      "cell_type": "code",
      "source": [
        "import requests\n",
        "import pandas as pd\n",
        "from datetime import datetime, timedelta\n",
        "\n",
        "# Coimbatore coordinates\n",
        "lat = 11.0168\n",
        "lon = 76.9558\n",
        "\n",
        "# Met.no API endpoint\n",
        "url = f\"https://api.met.no/weatherapi/locationforecast/2.0/compact?lat={lat}&lon={lon}\"\n",
        "\n",
        "# Headers with User-Agent\n",
        "headers = {\n",
        "    \"User-Agent\": \"YourAppName/1.0 (your@email.com)\"\n",
        "}\n",
        "\n",
        "# Make the API request\n",
        "response = requests.get(url, headers=headers)\n",
        "\n",
        "if response.status_code == 200:\n",
        "    data = response.json()\n",
        "    timeseries = data['properties']['timeseries']\n",
        "\n",
        "    # Extract relevant data\n",
        "    weather_data = []\n",
        "    for entry in timeseries:\n",
        "        time = entry['time']\n",
        "        details = entry['data']['instant']['details']\n",
        "        weather_data.append({\n",
        "            \"datetime\": time,\n",
        "            \"temperature\": details.get(\"air_temperature\"),\n",
        "            \"humidity\": details.get(\"relative_humidity\"),\n",
        "            \"cloud_cover\": details.get(\"cloud_area_fraction\")\n",
        "        })\n",
        "\n",
        "    # Convert to DataFrame\n",
        "    df = pd.DataFrame(weather_data)\n",
        "\n",
        "    # Save to CSV\n",
        "    df.to_csv(\"coimbatore_weather_forecast.csv\", index=False)\n",
        "    print(\"Weather data saved to coimbatore_weather_forecast.csv\")\n",
        "else:\n",
        "    print(f\"Error: {response.status_code}\")\n"
      ],
      "metadata": {
        "colab": {
          "base_uri": "https://localhost:8080/"
        },
        "id": "Ml0YhMBERnKL",
        "outputId": "536c5ae3-4185-44cb-82dd-6a72046ce751"
      },
      "execution_count": null,
      "outputs": [
        {
          "output_type": "stream",
          "name": "stdout",
          "text": [
            "Weather data saved to coimbatore_weather_forecast.csv\n"
          ]
        }
      ]
    },
    {
      "cell_type": "code",
      "source": [
        "import pandas as pd\n",
        "\n",
        "# Load the data\n",
        "df = pd.read_csv(\"coimbatore_weather_forecast.csv\")\n",
        "\n",
        "# Display the first few rows\n",
        "print(df.head())\n"
      ],
      "metadata": {
        "id": "s-wVtlyWRsfF",
        "outputId": "79377f55-06eb-465b-8112-e802d6e33b50",
        "colab": {
          "base_uri": "https://localhost:8080/"
        }
      },
      "execution_count": null,
      "outputs": [
        {
          "output_type": "stream",
          "name": "stdout",
          "text": [
            "               datetime  temperature  humidity  cloud_cover\n",
            "0  2025-04-09T06:00:00Z         33.0      43.6        100.0\n",
            "1  2025-04-09T07:00:00Z         34.4      35.1         97.7\n",
            "2  2025-04-09T08:00:00Z         35.2      31.3         97.7\n",
            "3  2025-04-09T09:00:00Z         35.7      27.4         86.7\n",
            "4  2025-04-09T10:00:00Z         35.8      25.3         76.6\n"
          ]
        }
      ]
    },
    {
      "cell_type": "markdown",
      "source": [],
      "metadata": {
        "id": "4HV1nfgJtcq9"
      }
    },
    {
      "cell_type": "code",
      "source": [
        "import pandas as pd\n",
        "\n",
        "# Load your existing weather forecast CSV\n",
        "df = pd.read_csv(\"coimbatore_weather_forecast.csv\")\n",
        "df['datetime'] = pd.to_datetime(df['datetime'])\n",
        "\n",
        "# Fill missing cloud cover with 0 (clear sky)\n",
        "df['cloud_cover'] = df['cloud_cover'].fillna(0)\n",
        "\n",
        "# Step 1: Estimate solar irradiance from cloud cover\n",
        "# Assume max irradiance = 1000 W/m² (typical max)\n",
        "df['estimated_irradiance'] = 1000 * (1 - df['cloud_cover'] / 100)\n",
        "\n",
        "# Step 2: Panel specs\n",
        "panel_area = 1.94  # m²\n",
        "efficiency = 0.206\n",
        "num_panels = 3\n",
        "\n",
        "# Step 3: Power output (W) from all panels\n",
        "df['power_W'] = df['estimated_irradiance'] * panel_area * efficiency * num_panels\n",
        "\n",
        "# Step 4: Convert to energy per hour (kWh)\n",
        "df['energy_kWh'] = df['power_W'] / 1000\n",
        "\n",
        "# Step 5: Final output\n",
        "df_out = df[['datetime', 'cloud_cover', 'estimated_irradiance', 'energy_kWh']]\n",
        "df_out.to_csv(\"solar_output_3_panels.csv\", index=False)\n",
        "print(\"✅ Saved: solar_output_3_panels.csv\")\n",
        "print(df_out.head(10))\n"
      ],
      "metadata": {
        "colab": {
          "base_uri": "https://localhost:8080/"
        },
        "id": "MTf2UiIVtHnI",
        "outputId": "33303258-d9b5-423e-8ccf-e41277f5306d"
      },
      "execution_count": null,
      "outputs": [
        {
          "output_type": "stream",
          "name": "stdout",
          "text": [
            "✅ Saved: solar_output_3_panels.csv\n",
            "                   datetime  cloud_cover  estimated_irradiance  energy_kWh\n",
            "0 2025-04-09 08:00:00+00:00        100.0                   0.0    0.000000\n",
            "1 2025-04-09 09:00:00+00:00         98.4                  16.0    0.019183\n",
            "2 2025-04-09 10:00:00+00:00         23.4                 766.0    0.918373\n",
            "3 2025-04-09 11:00:00+00:00         16.4                 836.0    1.002297\n",
            "4 2025-04-09 12:00:00+00:00          7.0                 930.0    1.114996\n",
            "5 2025-04-09 13:00:00+00:00         34.4                 656.0    0.786492\n",
            "6 2025-04-09 14:00:00+00:00         87.5                 125.0    0.149865\n",
            "7 2025-04-09 15:00:00+00:00         79.7                 203.0    0.243381\n",
            "8 2025-04-09 16:00:00+00:00         35.9                 641.0    0.768508\n",
            "9 2025-04-09 17:00:00+00:00         30.5                 695.0    0.833249\n"
          ]
        }
      ]
    },
    {
      "cell_type": "code",
      "source": [
        "from google.colab import files\n",
        "files.download(\"solar_output_3_panels.csv\")\n"
      ],
      "metadata": {
        "colab": {
          "base_uri": "https://localhost:8080/",
          "height": 17
        },
        "id": "QQsLNlLBuBHS",
        "outputId": "4f7f933f-9094-44ea-8603-9fffdcff8e7c"
      },
      "execution_count": null,
      "outputs": [
        {
          "output_type": "display_data",
          "data": {
            "text/plain": [
              "<IPython.core.display.Javascript object>"
            ],
            "application/javascript": [
              "\n",
              "    async function download(id, filename, size) {\n",
              "      if (!google.colab.kernel.accessAllowed) {\n",
              "        return;\n",
              "      }\n",
              "      const div = document.createElement('div');\n",
              "      const label = document.createElement('label');\n",
              "      label.textContent = `Downloading \"${filename}\": `;\n",
              "      div.appendChild(label);\n",
              "      const progress = document.createElement('progress');\n",
              "      progress.max = size;\n",
              "      div.appendChild(progress);\n",
              "      document.body.appendChild(div);\n",
              "\n",
              "      const buffers = [];\n",
              "      let downloaded = 0;\n",
              "\n",
              "      const channel = await google.colab.kernel.comms.open(id);\n",
              "      // Send a message to notify the kernel that we're ready.\n",
              "      channel.send({})\n",
              "\n",
              "      for await (const message of channel.messages) {\n",
              "        // Send a message to notify the kernel that we're ready.\n",
              "        channel.send({})\n",
              "        if (message.buffers) {\n",
              "          for (const buffer of message.buffers) {\n",
              "            buffers.push(buffer);\n",
              "            downloaded += buffer.byteLength;\n",
              "            progress.value = downloaded;\n",
              "          }\n",
              "        }\n",
              "      }\n",
              "      const blob = new Blob(buffers, {type: 'application/binary'});\n",
              "      const a = document.createElement('a');\n",
              "      a.href = window.URL.createObjectURL(blob);\n",
              "      a.download = filename;\n",
              "      div.appendChild(a);\n",
              "      a.click();\n",
              "      div.remove();\n",
              "    }\n",
              "  "
            ]
          },
          "metadata": {}
        },
        {
          "output_type": "display_data",
          "data": {
            "text/plain": [
              "<IPython.core.display.Javascript object>"
            ],
            "application/javascript": [
              "download(\"download_caf17c1f-1ef2-46dc-9039-85ea29ab7ca8\", \"solar_output_3_panels.csv\", 5213)"
            ]
          },
          "metadata": {}
        }
      ]
    },
    {
      "cell_type": "code",
      "source": [
        "import pandas as pd\n",
        "\n",
        "# Load your solar panel output file\n",
        "df = pd.read_csv(\"solar_output_3_panels.csv\")\n",
        "\n",
        "# Convert datetime and extract useful time features\n",
        "df['datetime'] = pd.to_datetime(df['datetime'])\n",
        "df['hour'] = df['datetime'].dt.hour\n",
        "df['day'] = df['datetime'].dt.day\n",
        "df['month'] = df['datetime'].dt.month\n",
        "\n",
        "# Optional: Filter daytime hours (e.g., 6 AM to 6 PM)\n",
        "df = df[(df['hour'] >= 6) & (df['hour'] <= 18)]\n",
        "\n",
        "# Features for prediction\n",
        "features = ['hour', 'day', 'month', 'cloud_cover', 'estimated_irradiance']\n",
        "target = 'energy_kWh'\n"
      ],
      "metadata": {
        "id": "jIYYl-mXuQOK"
      },
      "execution_count": null,
      "outputs": []
    },
    {
      "cell_type": "code",
      "source": [
        "from sklearn.model_selection import train_test_split\n",
        "from sklearn.ensemble import RandomForestRegressor\n",
        "from sklearn.metrics import mean_absolute_error\n",
        "\n",
        "# Split data\n",
        "X = df[features]\n",
        "y = df[target]\n",
        "X_train, X_test, y_train, y_test = train_test_split(X, y, test_size=0.2, random_state=42)\n",
        "\n",
        "# Train the model\n",
        "model = RandomForestRegressor(n_estimators=100, random_state=42)\n",
        "model.fit(X_train, y_train)\n",
        "\n",
        "# Predict on test set\n",
        "y_pred = model.predict(X_test)\n",
        "mae = mean_absolute_error(y_test, y_pred)\n",
        "print(f\"✅ Model trained. MAE: {mae:.3f} kWh\")\n"
      ],
      "metadata": {
        "colab": {
          "base_uri": "https://localhost:8080/"
        },
        "id": "OZ5DPSWduSrn",
        "outputId": "16ae5b5a-c6ae-4eaa-dd03-5d992964cbf4"
      },
      "execution_count": null,
      "outputs": [
        {
          "output_type": "stream",
          "name": "stdout",
          "text": [
            "✅ Model trained. MAE: 0.014 kWh\n"
          ]
        }
      ]
    },
    {
      "cell_type": "code",
      "source": [
        "from sklearn.metrics import mean_absolute_error, mean_squared_error, r2_score\n",
        "import numpy as np\n",
        "\n",
        "# Predict on test set\n",
        "y_pred = model.predict(X_test)\n",
        "\n",
        "# 📏 Evaluation Metrics\n",
        "mae = mean_absolute_error(y_test, y_pred)\n",
        "rmse = np.sqrt(mean_squared_error(y_test, y_pred))\n",
        "r2 = r2_score(y_test, y_pred)\n",
        "\n",
        "print(f\"📊 Model Performance:\")\n",
        "print(f\"✅ MAE  (Mean Absolute Error):      {mae:.3f} kWh\")\n",
        "print(f\"✅ RMSE (Root Mean Squared Error):  {rmse:.3f} kWh\")\n",
        "print(f\"✅ R²   (R-squared):                {r2:.3f}\")\n"
      ],
      "metadata": {
        "colab": {
          "base_uri": "https://localhost:8080/"
        },
        "id": "WPNBvSipuj7e",
        "outputId": "d9f511f6-0167-47f3-e0a1-5e1740e779fe"
      },
      "execution_count": null,
      "outputs": [
        {
          "output_type": "stream",
          "name": "stdout",
          "text": [
            "📊 Model Performance:\n",
            "✅ MAE  (Mean Absolute Error):      0.014 kWh\n",
            "✅ RMSE (Root Mean Squared Error):  0.019 kWh\n",
            "✅ R²   (R-squared):                0.997\n"
          ]
        }
      ]
    },
    {
      "cell_type": "code",
      "source": [
        "# Sample input: 12 PM, 10% cloud, 950 irradiance\n",
        "sample_input = pd.DataFrame([{\n",
        "    'hour': 12,\n",
        "    'day': 10,\n",
        "    'month': 4,\n",
        "    'cloud_cover': 10,\n",
        "    'estimated_irradiance': 950\n",
        "}])\n",
        "\n",
        "predicted_energy = model.predict(sample_input)[0]\n",
        "print(f\"🌞 Predicted Solar Energy (1 hour): {predicted_energy:.2f} kWh\")\n"
      ],
      "metadata": {
        "colab": {
          "base_uri": "https://localhost:8080/"
        },
        "id": "air5RIujurmK",
        "outputId": "f79bffca-e052-499a-b10f-bef7fcfe616c"
      },
      "execution_count": null,
      "outputs": [
        {
          "output_type": "stream",
          "name": "stdout",
          "text": [
            "🌞 Predicted Solar Energy (1 hour): 1.12 kWh\n"
          ]
        }
      ]
    },
    {
      "cell_type": "code",
      "source": [
        "import joblib\n",
        "joblib.dump(model, 'solar_energy_predictor.pkl')\n",
        "print(\"✅ Model saved as solar_energy_predictor.pkl\")\n"
      ],
      "metadata": {
        "colab": {
          "base_uri": "https://localhost:8080/"
        },
        "id": "SJ5G3tDSuux3",
        "outputId": "01a40104-c9ec-42c4-e655-e91a5d9412cc"
      },
      "execution_count": null,
      "outputs": [
        {
          "output_type": "stream",
          "name": "stdout",
          "text": [
            "✅ Model saved as solar_energy_predictor.pkl\n"
          ]
        }
      ]
    },
    {
      "cell_type": "code",
      "source": [
        "from google.colab import files\n",
        "files.download('solar_energy_predictor.pkl')\n"
      ],
      "metadata": {
        "id": "KnTh2qN5u5Gj",
        "outputId": "7eb1fac5-356e-4950-b03a-eae2e07c674f",
        "colab": {
          "base_uri": "https://localhost:8080/",
          "height": 17
        }
      },
      "execution_count": null,
      "outputs": [
        {
          "output_type": "display_data",
          "data": {
            "text/plain": [
              "<IPython.core.display.Javascript object>"
            ],
            "application/javascript": [
              "\n",
              "    async function download(id, filename, size) {\n",
              "      if (!google.colab.kernel.accessAllowed) {\n",
              "        return;\n",
              "      }\n",
              "      const div = document.createElement('div');\n",
              "      const label = document.createElement('label');\n",
              "      label.textContent = `Downloading \"${filename}\": `;\n",
              "      div.appendChild(label);\n",
              "      const progress = document.createElement('progress');\n",
              "      progress.max = size;\n",
              "      div.appendChild(progress);\n",
              "      document.body.appendChild(div);\n",
              "\n",
              "      const buffers = [];\n",
              "      let downloaded = 0;\n",
              "\n",
              "      const channel = await google.colab.kernel.comms.open(id);\n",
              "      // Send a message to notify the kernel that we're ready.\n",
              "      channel.send({})\n",
              "\n",
              "      for await (const message of channel.messages) {\n",
              "        // Send a message to notify the kernel that we're ready.\n",
              "        channel.send({})\n",
              "        if (message.buffers) {\n",
              "          for (const buffer of message.buffers) {\n",
              "            buffers.push(buffer);\n",
              "            downloaded += buffer.byteLength;\n",
              "            progress.value = downloaded;\n",
              "          }\n",
              "        }\n",
              "      }\n",
              "      const blob = new Blob(buffers, {type: 'application/binary'});\n",
              "      const a = document.createElement('a');\n",
              "      a.href = window.URL.createObjectURL(blob);\n",
              "      a.download = filename;\n",
              "      div.appendChild(a);\n",
              "      a.click();\n",
              "      div.remove();\n",
              "    }\n",
              "  "
            ]
          },
          "metadata": {}
        },
        {
          "output_type": "display_data",
          "data": {
            "text/plain": [
              "<IPython.core.display.Javascript object>"
            ],
            "application/javascript": [
              "download(\"download_6be5a264-33a2-4942-9483-5e5599d1d854\", \"solar_energy_predictor.pkl\", 377345)"
            ]
          },
          "metadata": {}
        }
      ]
    }
  ]
}